{
 "cells": [
  {
   "cell_type": "markdown",
   "source": [
    "# Predict the customer churn of telecom company and finding out the key drivers that lead to churn\r\n"
   ],
   "metadata": {}
  },
  {
   "cell_type": "code",
   "execution_count": 4,
   "source": [
    "import numpy as np\r\n",
    "import pandas as pd\r\n",
    "import os\r\n",
    "import matplotlib.pyplot as plt\r\n",
    "import seaborn as sns"
   ],
   "outputs": [],
   "metadata": {}
  },
  {
   "cell_type": "code",
   "execution_count": 5,
   "source": [
    "# set path directory\r\n",
    "os.chdir('F:\\KAGGLE\\Predict Customer Churn')\r\n",
    "\r\n",
    "# reading data files\r\n",
    "training = pd.read_csv('Telecom_Train.csv')\r\n",
    "testing = pd.read_csv('Telecom_Test.csv')"
   ],
   "outputs": [],
   "metadata": {}
  },
  {
   "cell_type": "code",
   "execution_count": 6,
   "source": [
    "training.shape\r\n"
   ],
   "outputs": [
    {
     "output_type": "execute_result",
     "data": {
      "text/plain": [
       "(3333, 21)"
      ]
     },
     "metadata": {},
     "execution_count": 6
    }
   ],
   "metadata": {}
  },
  {
   "cell_type": "code",
   "execution_count": 7,
   "source": [
    "# check ratio train to test data\r\n",
    "training.shape[0]/testing.shape[0] "
   ],
   "outputs": [
    {
     "output_type": "execute_result",
     "data": {
      "text/plain": [
       "1.9994001199760048"
      ]
     },
     "metadata": {},
     "execution_count": 7
    }
   ],
   "metadata": {}
  },
  {
   "cell_type": "code",
   "execution_count": 8,
   "source": [
    "def get_basic_stats(dfname):\r\n",
    "    print(\"\\nShape of dataframe is \"+str(dfname.shape))\r\n",
    "    print(\"\\nBelow are datatypes of columns in DF\")\r\n",
    "    print(dfname.dtypes.sort_values())\r\n",
    "    print(\"\\nMissing values in column\")\r\n",
    "    print(dfname.isna().sum().sort_values())\r\n",
    "    print(\"\\nNumber of unique values taken in a colummn\")\r\n",
    "    print(dfname.nunique().sort_values())\r\n",
    "    print(\"\\nrecords of data\")\r\n",
    "    print(dfname.head())"
   ],
   "outputs": [],
   "metadata": {}
  },
  {
   "cell_type": "code",
   "execution_count": 9,
   "source": [
    "# basic stats testing data\r\n",
    "get_basic_stats(testing)"
   ],
   "outputs": [
    {
     "output_type": "stream",
     "name": "stdout",
     "text": [
      "\n",
      "Shape of dataframe is (1667, 21)\n",
      "\n",
      "Below are datatypes of columns in DF\n",
      "Unnamed: 0                         int64\n",
      "account_length                     int64\n",
      "total_intl_calls                   int64\n",
      "number_vmail_messages              int64\n",
      "total_night_calls                  int64\n",
      "total_day_calls                    int64\n",
      "number_customer_service_calls      int64\n",
      "total_eve_calls                    int64\n",
      "total_intl_charge                float64\n",
      "total_intl_minutes               float64\n",
      "total_night_charge               float64\n",
      "total_night_minutes              float64\n",
      "total_eve_minutes                float64\n",
      "total_day_charge                 float64\n",
      "total_day_minutes                float64\n",
      "total_eve_charge                 float64\n",
      "voice_mail_plan                   object\n",
      "international_plan                object\n",
      "area_code                         object\n",
      "state                             object\n",
      "churn                             object\n",
      "dtype: object\n",
      "\n",
      "Missing values in column\n",
      "Unnamed: 0                       0\n",
      "total_intl_charge                0\n",
      "total_intl_calls                 0\n",
      "total_intl_minutes               0\n",
      "total_night_charge               0\n",
      "total_night_calls                0\n",
      "total_night_minutes              0\n",
      "total_eve_charge                 0\n",
      "total_eve_calls                  0\n",
      "number_customer_service_calls    0\n",
      "total_eve_minutes                0\n",
      "total_day_calls                  0\n",
      "total_day_minutes                0\n",
      "number_vmail_messages            0\n",
      "voice_mail_plan                  0\n",
      "international_plan               0\n",
      "area_code                        0\n",
      "account_length                   0\n",
      "state                            0\n",
      "total_day_charge                 0\n",
      "churn                            0\n",
      "dtype: int64\n",
      "\n",
      "Number of unique values taken in a colummn\n",
      "churn                               2\n",
      "international_plan                  2\n",
      "voice_mail_plan                     2\n",
      "area_code                           3\n",
      "number_customer_service_calls       8\n",
      "total_intl_calls                   19\n",
      "number_vmail_messages              41\n",
      "state                              51\n",
      "total_day_calls                   109\n",
      "total_eve_calls                   109\n",
      "total_night_calls                 121\n",
      "total_intl_charge                 148\n",
      "total_intl_minutes                148\n",
      "account_length                    198\n",
      "total_night_charge                743\n",
      "total_eve_charge                  993\n",
      "total_eve_minutes                1088\n",
      "total_night_minutes              1093\n",
      "total_day_charge                 1098\n",
      "total_day_minutes                1098\n",
      "Unnamed: 0                       1667\n",
      "dtype: int64\n",
      "\n",
      "records of data\n",
      "   Unnamed: 0 state  account_length      area_code international_plan  \\\n",
      "0           1    HI             101  area_code_510                 no   \n",
      "1           2    MT             137  area_code_510                 no   \n",
      "2           3    OH             103  area_code_408                 no   \n",
      "3           4    NM              99  area_code_415                 no   \n",
      "4           5    SC             108  area_code_415                 no   \n",
      "\n",
      "  voice_mail_plan  number_vmail_messages  total_day_minutes  total_day_calls  \\\n",
      "0              no                      0               70.9              123   \n",
      "1              no                      0              223.6               86   \n",
      "2             yes                     29              294.7               95   \n",
      "3              no                      0              216.8              123   \n",
      "4              no                      0              197.4               78   \n",
      "\n",
      "   total_day_charge  ...  total_eve_calls  total_eve_charge  \\\n",
      "0             12.05  ...               73             18.01   \n",
      "1             38.01  ...              139             20.81   \n",
      "2             50.10  ...              105             20.17   \n",
      "3             36.86  ...               88             10.74   \n",
      "4             33.56  ...              101             10.54   \n",
      "\n",
      "   total_night_minutes  total_night_calls  total_night_charge  \\\n",
      "0                236.0                 73               10.62   \n",
      "1                 94.2                 81                4.24   \n",
      "2                300.3                127               13.51   \n",
      "3                220.6                 82                9.93   \n",
      "4                204.5                107                9.20   \n",
      "\n",
      "   total_intl_minutes  total_intl_calls  total_intl_charge  \\\n",
      "0                10.6                 3               2.86   \n",
      "1                 9.5                 7               2.57   \n",
      "2                13.7                 6               3.70   \n",
      "3                15.7                 2               4.24   \n",
      "4                 7.7                 4               2.08   \n",
      "\n",
      "   number_customer_service_calls  churn  \n",
      "0                              3     no  \n",
      "1                              0     no  \n",
      "2                              1     no  \n",
      "3                              1     no  \n",
      "4                              2     no  \n",
      "\n",
      "[5 rows x 21 columns]\n"
     ]
    }
   ],
   "metadata": {}
  },
  {
   "cell_type": "code",
   "execution_count": 10,
   "source": [
    "# basic stats training\r\n",
    "get_basic_stats(training)"
   ],
   "outputs": [
    {
     "output_type": "stream",
     "name": "stdout",
     "text": [
      "\n",
      "Shape of dataframe is (3333, 21)\n",
      "\n",
      "Below are datatypes of columns in DF\n",
      "Unnamed: 0                         int64\n",
      "account_length                     int64\n",
      "total_intl_calls                   int64\n",
      "number_vmail_messages              int64\n",
      "total_night_calls                  int64\n",
      "total_day_calls                    int64\n",
      "number_customer_service_calls      int64\n",
      "total_eve_calls                    int64\n",
      "total_intl_charge                float64\n",
      "total_intl_minutes               float64\n",
      "total_night_charge               float64\n",
      "total_night_minutes              float64\n",
      "total_eve_minutes                float64\n",
      "total_day_charge                 float64\n",
      "total_day_minutes                float64\n",
      "total_eve_charge                 float64\n",
      "voice_mail_plan                   object\n",
      "international_plan                object\n",
      "area_code                         object\n",
      "state                             object\n",
      "churn                             object\n",
      "dtype: object\n",
      "\n",
      "Missing values in column\n",
      "Unnamed: 0                       0\n",
      "total_intl_charge                0\n",
      "total_intl_calls                 0\n",
      "total_intl_minutes               0\n",
      "total_night_charge               0\n",
      "total_night_calls                0\n",
      "total_night_minutes              0\n",
      "total_eve_charge                 0\n",
      "total_eve_calls                  0\n",
      "number_customer_service_calls    0\n",
      "total_eve_minutes                0\n",
      "total_day_calls                  0\n",
      "total_day_minutes                0\n",
      "number_vmail_messages            0\n",
      "voice_mail_plan                  0\n",
      "international_plan               0\n",
      "area_code                        0\n",
      "account_length                   0\n",
      "state                            0\n",
      "total_day_charge                 0\n",
      "churn                            0\n",
      "dtype: int64\n",
      "\n",
      "Number of unique values taken in a colummn\n",
      "churn                               2\n",
      "international_plan                  2\n",
      "voice_mail_plan                     2\n",
      "area_code                           3\n",
      "number_customer_service_calls      10\n",
      "total_intl_calls                   21\n",
      "number_vmail_messages              46\n",
      "state                              51\n",
      "total_day_calls                   119\n",
      "total_night_calls                 120\n",
      "total_eve_calls                   123\n",
      "total_intl_charge                 162\n",
      "total_intl_minutes                162\n",
      "account_length                    212\n",
      "total_night_charge                933\n",
      "total_eve_charge                 1440\n",
      "total_night_minutes              1591\n",
      "total_eve_minutes                1611\n",
      "total_day_minutes                1667\n",
      "total_day_charge                 1667\n",
      "Unnamed: 0                       3333\n",
      "dtype: int64\n",
      "\n",
      "records of data\n",
      "   Unnamed: 0 state  account_length      area_code international_plan  \\\n",
      "0           1    KS             128  area_code_415                 no   \n",
      "1           2    OH             107  area_code_415                 no   \n",
      "2           3    NJ             137  area_code_415                 no   \n",
      "3           4    OH              84  area_code_408                yes   \n",
      "4           5    OK              75  area_code_415                yes   \n",
      "\n",
      "  voice_mail_plan  number_vmail_messages  total_day_minutes  total_day_calls  \\\n",
      "0             yes                     25              265.1              110   \n",
      "1             yes                     26              161.6              123   \n",
      "2              no                      0              243.4              114   \n",
      "3              no                      0              299.4               71   \n",
      "4              no                      0              166.7              113   \n",
      "\n",
      "   total_day_charge  ...  total_eve_calls  total_eve_charge  \\\n",
      "0             45.07  ...               99             16.78   \n",
      "1             27.47  ...              103             16.62   \n",
      "2             41.38  ...              110             10.30   \n",
      "3             50.90  ...               88              5.26   \n",
      "4             28.34  ...              122             12.61   \n",
      "\n",
      "   total_night_minutes  total_night_calls  total_night_charge  \\\n",
      "0                244.7                 91               11.01   \n",
      "1                254.4                103               11.45   \n",
      "2                162.6                104                7.32   \n",
      "3                196.9                 89                8.86   \n",
      "4                186.9                121                8.41   \n",
      "\n",
      "   total_intl_minutes  total_intl_calls  total_intl_charge  \\\n",
      "0                10.0                 3               2.70   \n",
      "1                13.7                 3               3.70   \n",
      "2                12.2                 5               3.29   \n",
      "3                 6.6                 7               1.78   \n",
      "4                10.1                 3               2.73   \n",
      "\n",
      "   number_customer_service_calls  churn  \n",
      "0                              1     no  \n",
      "1                              1     no  \n",
      "2                              0     no  \n",
      "3                              2     no  \n",
      "4                              3     no  \n",
      "\n",
      "[5 rows x 21 columns]\n"
     ]
    }
   ],
   "metadata": {}
  },
  {
   "cell_type": "code",
   "execution_count": 11,
   "source": [
    "# make a copy of data to keep its originality\r\n",
    "training2 = training.copy()\r\n",
    "testing2 = testing.copy()"
   ],
   "outputs": [],
   "metadata": {}
  },
  {
   "cell_type": "code",
   "execution_count": 12,
   "source": [
    "# removed unusable column\r\n",
    "training2 = training2.drop('Unnamed: 0', axis=1)\r\n",
    "testing2 = testing2.drop('Unnamed: 0', axis=1)\r\n",
    "training2.shape"
   ],
   "outputs": [
    {
     "output_type": "execute_result",
     "data": {
      "text/plain": [
       "(3333, 20)"
      ]
     },
     "metadata": {},
     "execution_count": 12
    }
   ],
   "metadata": {}
  },
  {
   "cell_type": "code",
   "execution_count": 13,
   "source": [
    "def cat_to_binary(df, varname):\r\n",
    "    df[varname +'_num'] = df[varname].apply(lambda x: 1 if x=='yes' else 0)\r\n",
    "    print(\"\\nchecking\")\r\n",
    "    print(df.groupby([varname +'_num', varname]).size())\r\n",
    "    return df"
   ],
   "outputs": [],
   "metadata": {}
  },
  {
   "cell_type": "code",
   "execution_count": 14,
   "source": [
    "convert_list = ['churn','international_plan', 'voice_mail_plan']"
   ],
   "outputs": [],
   "metadata": {}
  },
  {
   "cell_type": "code",
   "execution_count": 15,
   "source": [
    "for varname in convert_list:\r\n",
    "    training2 = cat_to_binary(training2, varname)\r\n",
    "    testing2 = cat_to_binary(testing2, varname)\r\n"
   ],
   "outputs": [
    {
     "output_type": "stream",
     "name": "stdout",
     "text": [
      "\n",
      "checking\n",
      "churn_num  churn\n",
      "0          no       2850\n",
      "1          yes       483\n",
      "dtype: int64\n",
      "\n",
      "checking\n",
      "churn_num  churn\n",
      "0          no       1443\n",
      "1          yes       224\n",
      "dtype: int64\n",
      "\n",
      "checking\n",
      "international_plan_num  international_plan\n",
      "0                       no                    3010\n",
      "1                       yes                    323\n",
      "dtype: int64\n",
      "\n",
      "checking\n",
      "international_plan_num  international_plan\n",
      "0                       no                    1517\n",
      "1                       yes                    150\n",
      "dtype: int64\n",
      "\n",
      "checking\n",
      "voice_mail_plan_num  voice_mail_plan\n",
      "0                    no                 2411\n",
      "1                    yes                 922\n",
      "dtype: int64\n",
      "\n",
      "checking\n",
      "voice_mail_plan_num  voice_mail_plan\n",
      "0                    no                 1266\n",
      "1                    yes                 401\n",
      "dtype: int64\n"
     ]
    }
   ],
   "metadata": {}
  },
  {
   "cell_type": "code",
   "execution_count": 16,
   "source": [
    "#univariate analysis - NON continuous variables\r\n",
    "import matplotlib.pyplot as plt\r\n",
    "import seaborn as sns"
   ],
   "outputs": [],
   "metadata": {}
  },
  {
   "cell_type": "code",
   "execution_count": 17,
   "source": [
    "plt.hist(list(training2['area_code']))"
   ],
   "outputs": [
    {
     "output_type": "execute_result",
     "data": {
      "text/plain": [
       "(array([1655.,    0.,    0.,    0.,    0.,  838.,    0.,    0.,    0.,\n",
       "         840.]),\n",
       " array([0. , 0.2, 0.4, 0.6, 0.8, 1. , 1.2, 1.4, 1.6, 1.8, 2. ]),\n",
       " <BarContainer object of 10 artists>)"
      ]
     },
     "metadata": {},
     "execution_count": 17
    },
    {
     "output_type": "display_data",
     "data": {
      "text/plain": [
       "<Figure size 432x288 with 1 Axes>"
      ],
      "image/png": "[encoded data removed]"
     },
     "metadata": {
      "needs_background": "light"
     }
    }
   ],
   "metadata": {}
  },
  {
   "cell_type": "code",
   "execution_count": 18,
   "source": [
    "plt.figure(figsize=(20,10))\r\n",
    "plt.hist(list(training2['state']),bins =100)"
   ],
   "outputs": [
    {
     "output_type": "execute_result",
     "data": {
      "text/plain": [
       "(array([ 70.,   0.,  78.,   0.,  68.,   0.,  61.,   0.,  80.,   0.,  65.,\n",
       "          0.,  63.,   0.,  51.,   0., 106.,   0.,  71.,   0.,  65.,   0.,\n",
       "         44.,   0.,  68.,   0.,  83.,   0.,  73.,   0.,  73.,   0.,  77.,\n",
       "          0.,  72.,   0.,  63.,   0.,  66.,   0.,  64.,   0.,  60.,   0.,\n",
       "         61.,   0.,  77.,   0.,  53.,   0.,  58.,   0.,  56.,   0.,  54.,\n",
       "          0.,  52.,   0.,  70.,   0.,  55.,   0.,  78.,   0.,  78.,   0.,\n",
       "         73.,   0.,  61.,   0.,  72.,   0.,  34.,   0.,  84.,   0.,  60.,\n",
       "          0.,  68.,   0.,  66.,   0.,  62.,   0.,  66.,   0.,  54.,   0.,\n",
       "         59.,   0.,  62.,   0.,  65.,   0.,  53.,   0.,  45.,   0.,  74.,\n",
       "         62.]),\n",
       " array([ 0. ,  0.5,  1. ,  1.5,  2. ,  2.5,  3. ,  3.5,  4. ,  4.5,  5. ,\n",
       "         5.5,  6. ,  6.5,  7. ,  7.5,  8. ,  8.5,  9. ,  9.5, 10. , 10.5,\n",
       "        11. , 11.5, 12. , 12.5, 13. , 13.5, 14. , 14.5, 15. , 15.5, 16. ,\n",
       "        16.5, 17. , 17.5, 18. , 18.5, 19. , 19.5, 20. , 20.5, 21. , 21.5,\n",
       "        22. , 22.5, 23. , 23.5, 24. , 24.5, 25. , 25.5, 26. , 26.5, 27. ,\n",
       "        27.5, 28. , 28.5, 29. , 29.5, 30. , 30.5, 31. , 31.5, 32. , 32.5,\n",
       "        33. , 33.5, 34. , 34.5, 35. , 35.5, 36. , 36.5, 37. , 37.5, 38. ,\n",
       "        38.5, 39. , 39.5, 40. , 40.5, 41. , 41.5, 42. , 42.5, 43. , 43.5,\n",
       "        44. , 44.5, 45. , 45.5, 46. , 46.5, 47. , 47.5, 48. , 48.5, 49. ,\n",
       "        49.5, 50. ]),\n",
       " <BarContainer object of 100 artists>)"
      ]
     },
     "metadata": {},
     "execution_count": 18
    },
    {
     "output_type": "display_data",
     "data": {
      "text/plain": [
       "<Figure size 1440x720 with 1 Axes>"
      ],
      "image/png": "[encoded data removed]"
     },
     "metadata": {
      "needs_background": "light"
     }
    }
   ],
   "metadata": {}
  },
  {
   "cell_type": "code",
   "execution_count": 19,
   "source": [
    "training2.mean()"
   ],
   "outputs": [
    {
     "output_type": "execute_result",
     "data": {
      "text/plain": [
       "account_length                   101.064806\n",
       "number_vmail_messages              8.099010\n",
       "total_day_minutes                179.775098\n",
       "total_day_calls                  100.435644\n",
       "total_day_charge                  30.562307\n",
       "total_eve_minutes                200.980348\n",
       "total_eve_calls                  100.114311\n",
       "total_eve_charge                  17.083540\n",
       "total_night_minutes              200.872037\n",
       "total_night_calls                100.107711\n",
       "total_night_charge                 9.039325\n",
       "total_intl_minutes                10.237294\n",
       "total_intl_calls                   4.479448\n",
       "total_intl_charge                  2.764581\n",
       "number_customer_service_calls      1.562856\n",
       "churn_num                          0.144914\n",
       "international_plan_num             0.096910\n",
       "voice_mail_plan_num                0.276628\n",
       "dtype: float64"
      ]
     },
     "metadata": {},
     "execution_count": 19
    }
   ],
   "metadata": {}
  },
  {
   "cell_type": "code",
   "execution_count": 20,
   "source": [
    "#visualising the churn variable\r\n",
    "topie = training['churn'].value_counts(sort=True)\r\n",
    "colorss = [\"green\",\"red\"]\r\n",
    "plt.pie(topie,labels = topie.index.values, explode=[0,0.2], colors=colorss, autopct='%1.1f%%', shadow=True, startangle=90)\r\n",
    "plt.title('%Churn in training Data')\r\n",
    "plt.show()"
   ],
   "outputs": [
    {
     "output_type": "display_data",
     "data": {
      "text/plain": [
       "<Figure size 432x288 with 1 Axes>"
      ],
      "image/png": "[encoded data removed]"
     },
     "metadata": {}
    }
   ],
   "metadata": {}
  },
  {
   "cell_type": "code",
   "execution_count": 21,
   "source": [
    "# univariate analysis - continuous variables\r\n",
    "continuous_vars = training2.select_dtypes([np.number]).columns.tolist()\r\n",
    "continuous_vars"
   ],
   "outputs": [
    {
     "output_type": "execute_result",
     "data": {
      "text/plain": [
       "['account_length',\n",
       " 'number_vmail_messages',\n",
       " 'total_day_minutes',\n",
       " 'total_day_calls',\n",
       " 'total_day_charge',\n",
       " 'total_eve_minutes',\n",
       " 'total_eve_calls',\n",
       " 'total_eve_charge',\n",
       " 'total_night_minutes',\n",
       " 'total_night_calls',\n",
       " 'total_night_charge',\n",
       " 'total_intl_minutes',\n",
       " 'total_intl_calls',\n",
       " 'total_intl_charge',\n",
       " 'number_customer_service_calls',\n",
       " 'churn_num',\n",
       " 'international_plan_num',\n",
       " 'voice_mail_plan_num']"
      ]
     },
     "metadata": {},
     "execution_count": 21
    }
   ],
   "metadata": {}
  },
  {
   "cell_type": "code",
   "execution_count": 22,
   "source": [
    "continuous_vars = [x for x in continuous_vars if '_num' not in x]"
   ],
   "outputs": [],
   "metadata": {}
  },
  {
   "cell_type": "code",
   "execution_count": 26,
   "source": [
    "calls_vars = [x for x in continuous_vars if 'calls' in x]\r\n",
    "calls_vars"
   ],
   "outputs": [
    {
     "output_type": "execute_result",
     "data": {
      "text/plain": [
       "['total_day_calls',\n",
       " 'total_eve_calls',\n",
       " 'total_night_calls',\n",
       " 'total_intl_calls',\n",
       " 'number_customer_service_calls']"
      ]
     },
     "metadata": {},
     "execution_count": 26
    }
   ],
   "metadata": {}
  },
  {
   "cell_type": "code",
   "execution_count": 27,
   "source": [
    "training2.boxplot(column=calls_vars, figsize=(20,10))\r\n"
   ],
   "outputs": [
    {
     "output_type": "execute_result",
     "data": {
      "text/plain": [
       "<AxesSubplot:>"
      ]
     },
     "metadata": {},
     "execution_count": 27
    },
    {
     "output_type": "display_data",
     "data": {
      "text/plain": [
       "<Figure size 1440x720 with 1 Axes>"
      ],
      "image/png": "[encoded data removed]"
     },
     "metadata": {
      "needs_background": "light"
     }
    }
   ],
   "metadata": {}
  },
  {
   "cell_type": "code",
   "execution_count": 31,
   "source": [
    "type_of_vars = ['intl','customer','minutes','calls','charge']\r\n",
    "remaining_list = training2.columns\r\n",
    "for vartype in type_of_vars:\r\n",
    "    temp_list = [x for x in remaining_list if vartype in x]\r\n",
    "    remaining_list = list(set(remaining_list).difference(set(temp_list)))\r\n",
    "    training2.boxplot(column=temp_list, figsize=(20,10))\r\n",
    "    plt.title('Boxplot for ' +vartype+ ' variables')\r\n",
    "    plt.show()"
   ],
   "outputs": [
    {
     "output_type": "display_data",
     "data": {
      "text/plain": [
       "<Figure size 1440x720 with 1 Axes>"
      ],
      "image/png": "[encoded data removed]"
     },
     "metadata": {
      "needs_background": "light"
     }
    },
    {
     "output_type": "display_data",
     "data": {
      "text/plain": [
       "<Figure size 1440x720 with 1 Axes>"
      ],
      "image/png": "[encoded data removed]"
     },
     "metadata": {
      "needs_background": "light"
     }
    },
    {
     "output_type": "display_data",
     "data": {
      "text/plain": [
       "<Figure size 1440x720 with 1 Axes>"
      ],
      "image/png": "[encoded data removed]"
     },
     "metadata": {
      "needs_background": "light"
     }
    },
    {
     "output_type": "display_data",
     "data": {
      "text/plain": [
       "<Figure size 1440x720 with 1 Axes>"
      ],
      "image/png": "[encoded data removed]"
     },
     "metadata": {
      "needs_background": "light"
     }
    },
    {
     "output_type": "display_data",
     "data": {
      "text/plain": [
       "<Figure size 1440x720 with 1 Axes>"
      ],
      "image/png": "[encoded data removed]"
     },
     "metadata": {
      "needs_background": "light"
     }
    }
   ],
   "metadata": {}
  },
  {
   "cell_type": "code",
   "execution_count": 32,
   "source": [
    "# Bivariate Analysis \r\n",
    "X = training2.drop('churn_num', axis=1)"
   ],
   "outputs": [],
   "metadata": {}
  },
  {
   "cell_type": "code",
   "execution_count": 34,
   "source": [
    "X.corr().unstack().reset_index()"
   ],
   "outputs": [
    {
     "output_type": "execute_result",
     "data": {
      "text/plain": [
       "                 level_0                        level_1         0\n",
       "0         account_length                 account_length  1.000000\n",
       "1         account_length          number_vmail_messages -0.004628\n",
       "2         account_length              total_day_minutes  0.006216\n",
       "3         account_length                total_day_calls  0.038470\n",
       "4         account_length               total_day_charge  0.006214\n",
       "..                   ...                            ...       ...\n",
       "284  voice_mail_plan_num               total_intl_calls  0.007618\n",
       "285  voice_mail_plan_num              total_intl_charge -0.001276\n",
       "286  voice_mail_plan_num  number_customer_service_calls -0.017824\n",
       "287  voice_mail_plan_num         international_plan_num  0.006006\n",
       "288  voice_mail_plan_num            voice_mail_plan_num  1.000000\n",
       "\n",
       "[289 rows x 3 columns]"
      ],
      "text/html": [
       "<div>\n",
       "<style scoped>\n",
       "    .dataframe tbody tr th:only-of-type {\n",
       "        vertical-align: middle;\n",
       "    }\n",
       "\n",
       "    .dataframe tbody tr th {\n",
       "        vertical-align: top;\n",
       "    }\n",
       "\n",
       "    .dataframe thead th {\n",
       "        text-align: right;\n",
       "    }\n",
       "</style>\n",
       "<table border=\"1\" class=\"dataframe\">\n",
       "  <thead>\n",
       "    <tr style=\"text-align: right;\">\n",
       "      <th></th>\n",
       "      <th>level_0</th>\n",
       "      <th>level_1</th>\n",
       "      <th>0</th>\n",
       "    </tr>\n",
       "  </thead>\n",
       "  <tbody>\n",
       "    <tr>\n",
       "      <th>0</th>\n",
       "      <td>account_length</td>\n",
       "      <td>account_length</td>\n",
       "      <td>1.000000</td>\n",
       "    </tr>\n",
       "    <tr>\n",
       "      <th>1</th>\n",
       "      <td>account_length</td>\n",
       "      <td>number_vmail_messages</td>\n",
       "      <td>-0.004628</td>\n",
       "    </tr>\n",
       "    <tr>\n",
       "      <th>2</th>\n",
       "      <td>account_length</td>\n",
       "      <td>total_day_minutes</td>\n",
       "      <td>0.006216</td>\n",
       "    </tr>\n",
       "    <tr>\n",
       "      <th>3</th>\n",
       "      <td>account_length</td>\n",
       "      <td>total_day_calls</td>\n",
       "      <td>0.038470</td>\n",
       "    </tr>\n",
       "    <tr>\n",
       "      <th>4</th>\n",
       "      <td>account_length</td>\n",
       "      <td>total_day_charge</td>\n",
       "      <td>0.006214</td>\n",
       "    </tr>\n",
       "    <tr>\n",
       "      <th>...</th>\n",
       "      <td>...</td>\n",
       "      <td>...</td>\n",
       "      <td>...</td>\n",
       "    </tr>\n",
       "    <tr>\n",
       "      <th>284</th>\n",
       "      <td>voice_mail_plan_num</td>\n",
       "      <td>total_intl_calls</td>\n",
       "      <td>0.007618</td>\n",
       "    </tr>\n",
       "    <tr>\n",
       "      <th>285</th>\n",
       "      <td>voice_mail_plan_num</td>\n",
       "      <td>total_intl_charge</td>\n",
       "      <td>-0.001276</td>\n",
       "    </tr>\n",
       "    <tr>\n",
       "      <th>286</th>\n",
       "      <td>voice_mail_plan_num</td>\n",
       "      <td>number_customer_service_calls</td>\n",
       "      <td>-0.017824</td>\n",
       "    </tr>\n",
       "    <tr>\n",
       "      <th>287</th>\n",
       "      <td>voice_mail_plan_num</td>\n",
       "      <td>international_plan_num</td>\n",
       "      <td>0.006006</td>\n",
       "    </tr>\n",
       "    <tr>\n",
       "      <th>288</th>\n",
       "      <td>voice_mail_plan_num</td>\n",
       "      <td>voice_mail_plan_num</td>\n",
       "      <td>1.000000</td>\n",
       "    </tr>\n",
       "  </tbody>\n",
       "</table>\n",
       "<p>289 rows × 3 columns</p>\n",
       "</div>"
      ]
     },
     "metadata": {},
     "execution_count": 34
    }
   ],
   "metadata": {}
  },
  {
   "cell_type": "code",
   "execution_count": 38,
   "source": [
    "all_corr = X.corr().unstack().reset_index()\r\n",
    "corr_table = all_corr[all_corr['level_0'] > all_corr['level_1']]\r\n",
    "corr_table.columns = ['var1', 'var2', 'corr_value']\r\n",
    "corr_table['corr_abs'] = corr_table['corr_value'].abs()\r\n",
    "corr_table = corr_table.sort_values(by=['corr_abs'],ascending=False)"
   ],
   "outputs": [
    {
     "output_type": "stream",
     "name": "stderr",
     "text": [
      "<ipython-input-38-bf4bb5020349>:4: SettingWithCopyWarning: \n",
      "A value is trying to be set on a copy of a slice from a DataFrame.\n",
      "Try using .loc[row_indexer,col_indexer] = value instead\n",
      "\n",
      "See the caveats in the documentation: https://pandas.pydata.org/pandas-docs/stable/user_guide/indexing.html#returning-a-view-versus-a-copy\n",
      "  corr_table['corr_abs'] = corr_table['corr_value'].abs()\n"
     ]
    }
   ],
   "metadata": {}
  },
  {
   "cell_type": "code",
   "execution_count": 39,
   "source": [
    "corr_table.head(10)"
   ],
   "outputs": [
    {
     "output_type": "execute_result",
     "data": {
      "text/plain": [
       "                    var1                    var2  corr_value  corr_abs\n",
       "38     total_day_minutes        total_day_charge    1.000000  1.000000\n",
       "92     total_eve_minutes        total_eve_charge    1.000000  1.000000\n",
       "146  total_night_minutes      total_night_charge    0.999999  0.999999\n",
       "200   total_intl_minutes       total_intl_charge    0.999993  0.999993\n",
       "273  voice_mail_plan_num   number_vmail_messages    0.956927  0.956927\n",
       "83      total_day_charge  international_plan_num    0.049398  0.049398\n",
       "49     total_day_minutes  international_plan_num    0.049396  0.049396\n",
       "202   total_intl_minutes  international_plan_num    0.045871  0.045871\n",
       "236    total_intl_charge  international_plan_num    0.045780  0.045780\n",
       "51       total_day_calls          account_length    0.038470  0.038470"
      ],
      "text/html": [
       "<div>\n",
       "<style scoped>\n",
       "    .dataframe tbody tr th:only-of-type {\n",
       "        vertical-align: middle;\n",
       "    }\n",
       "\n",
       "    .dataframe tbody tr th {\n",
       "        vertical-align: top;\n",
       "    }\n",
       "\n",
       "    .dataframe thead th {\n",
       "        text-align: right;\n",
       "    }\n",
       "</style>\n",
       "<table border=\"1\" class=\"dataframe\">\n",
       "  <thead>\n",
       "    <tr style=\"text-align: right;\">\n",
       "      <th></th>\n",
       "      <th>var1</th>\n",
       "      <th>var2</th>\n",
       "      <th>corr_value</th>\n",
       "      <th>corr_abs</th>\n",
       "    </tr>\n",
       "  </thead>\n",
       "  <tbody>\n",
       "    <tr>\n",
       "      <th>38</th>\n",
       "      <td>total_day_minutes</td>\n",
       "      <td>total_day_charge</td>\n",
       "      <td>1.000000</td>\n",
       "      <td>1.000000</td>\n",
       "    </tr>\n",
       "    <tr>\n",
       "      <th>92</th>\n",
       "      <td>total_eve_minutes</td>\n",
       "      <td>total_eve_charge</td>\n",
       "      <td>1.000000</td>\n",
       "      <td>1.000000</td>\n",
       "    </tr>\n",
       "    <tr>\n",
       "      <th>146</th>\n",
       "      <td>total_night_minutes</td>\n",
       "      <td>total_night_charge</td>\n",
       "      <td>0.999999</td>\n",
       "      <td>0.999999</td>\n",
       "    </tr>\n",
       "    <tr>\n",
       "      <th>200</th>\n",
       "      <td>total_intl_minutes</td>\n",
       "      <td>total_intl_charge</td>\n",
       "      <td>0.999993</td>\n",
       "      <td>0.999993</td>\n",
       "    </tr>\n",
       "    <tr>\n",
       "      <th>273</th>\n",
       "      <td>voice_mail_plan_num</td>\n",
       "      <td>number_vmail_messages</td>\n",
       "      <td>0.956927</td>\n",
       "      <td>0.956927</td>\n",
       "    </tr>\n",
       "    <tr>\n",
       "      <th>83</th>\n",
       "      <td>total_day_charge</td>\n",
       "      <td>international_plan_num</td>\n",
       "      <td>0.049398</td>\n",
       "      <td>0.049398</td>\n",
       "    </tr>\n",
       "    <tr>\n",
       "      <th>49</th>\n",
       "      <td>total_day_minutes</td>\n",
       "      <td>international_plan_num</td>\n",
       "      <td>0.049396</td>\n",
       "      <td>0.049396</td>\n",
       "    </tr>\n",
       "    <tr>\n",
       "      <th>202</th>\n",
       "      <td>total_intl_minutes</td>\n",
       "      <td>international_plan_num</td>\n",
       "      <td>0.045871</td>\n",
       "      <td>0.045871</td>\n",
       "    </tr>\n",
       "    <tr>\n",
       "      <th>236</th>\n",
       "      <td>total_intl_charge</td>\n",
       "      <td>international_plan_num</td>\n",
       "      <td>0.045780</td>\n",
       "      <td>0.045780</td>\n",
       "    </tr>\n",
       "    <tr>\n",
       "      <th>51</th>\n",
       "      <td>total_day_calls</td>\n",
       "      <td>account_length</td>\n",
       "      <td>0.038470</td>\n",
       "      <td>0.038470</td>\n",
       "    </tr>\n",
       "  </tbody>\n",
       "</table>\n",
       "</div>"
      ]
     },
     "metadata": {},
     "execution_count": 39
    }
   ],
   "metadata": {}
  },
  {
   "cell_type": "code",
   "execution_count": null,
   "source": [],
   "outputs": [],
   "metadata": {}
  }
 ],
 "metadata": {
  "orig_nbformat": 4,
  "language_info": {
   "name": "python",
   "version": "3.8.8",
   "mimetype": "text/x-python",
   "codemirror_mode": {
    "name": "ipython",
    "version": 3
   },
   "pygments_lexer": "ipython3",
   "nbconvert_exporter": "python",
   "file_extension": ".py"
  },
  "kernelspec": {
   "name": "python3",
   "display_name": "Python 3.8.8 64-bit ('base': conda)"
  },
  "interpreter": {
   "hash": "b3ba2566441a7c06988d0923437866b63cedc61552a5af99d1f4fb67d367b25f"
  }
 },
 "nbformat": 4,
 "nbformat_minor": 2
}